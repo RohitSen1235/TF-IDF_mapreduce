{
 "cells": [
  {
   "cell_type": "code",
   "execution_count": 1,
   "id": "12c2486a",
   "metadata": {},
   "outputs": [],
   "source": [
    "import pandas as pd"
   ]
  },
  {
   "cell_type": "code",
   "execution_count": 2,
   "id": "841a6e2d",
   "metadata": {},
   "outputs": [],
   "source": [
    "data_file = \"p3_out.txt\""
   ]
  },
  {
   "cell_type": "code",
   "execution_count": 4,
   "id": "c4cb196b",
   "metadata": {},
   "outputs": [],
   "source": [
    "# Create an empty list to store the data\n",
    "data = []\n",
    "\n",
    "# Read each line in the text file and extract word, doc_id, and tf-idf values\n",
    "with open(data_file, 'r') as file:\n",
    "    for line in file:\n",
    "        word_doc, tfidf = line.strip().split('\\t')\n",
    "        word,doc_id = word_doc.split(',')\n",
    "        data.append([word, doc_id, float(tfidf)])"
   ]
  },
  {
   "cell_type": "code",
   "execution_count": 5,
   "id": "89116837",
   "metadata": {},
   "outputs": [],
   "source": [
    "# Convert data to pandas DataFrame\n",
    "df = pd.DataFrame(data, columns=['word', 'doc_id', 'tfidf'])"
   ]
  },
  {
   "cell_type": "code",
   "execution_count": 6,
   "id": "6f2a1a69",
   "metadata": {},
   "outputs": [
    {
     "name": "stdout",
     "output_type": "stream",
     "text": [
      "word      1920s  1960s  30s  60searly  6th  70s  70sbr  72nd   8½  90s  ...  \\\n",
      "doc_id                                                                  ...   \n",
      "0_3.txt     0.0    0.0  0.0       0.0  0.0  0.0    0.0   0.0  0.0  0.0  ...   \n",
      "0_9.txt     0.0    0.0  0.0       0.0  0.0  0.0    0.0   0.0  0.0  0.0  ...   \n",
      "10_2.txt    0.0    0.0  0.0       0.0  0.0  0.0    0.0   0.0  0.0  0.0  ...   \n",
      "10_9.txt    0.0    0.0  0.0       0.0  0.0  0.0    0.0   0.0  0.0  0.0  ...   \n",
      "11_3.txt    0.0    0.0  0.0       0.0  0.0  0.0    0.0   0.0  0.0  0.0  ...   \n",
      "...         ...    ...  ...       ...  ...  ...    ...   ...  ...  ...  ...   \n",
      "7_7.txt     0.0    0.0  0.0       0.0  0.0  0.0    0.0   0.0  0.0  0.0  ...   \n",
      "8_4.txt     0.0    0.0  0.0       0.0  0.0  0.0    0.0   0.0  0.0  0.0  ...   \n",
      "8_7.txt     0.0    0.0  0.0       0.0  0.0  0.0    0.0   0.0  0.0  0.0  ...   \n",
      "9_1.txt     0.0    0.0  0.0       0.0  0.0  0.0    0.0   0.0  0.0  0.0  ...   \n",
      "9_7.txt     0.0    0.0  0.0       0.0  0.0  0.0    0.0   0.0  0.0  0.0  ...   \n",
      "\n",
      "word          yet  york  youll  young  youre  yourself  youve  yuppie  zero  \\\n",
      "doc_id                                                                        \n",
      "0_3.txt   0.00000   0.0    0.0    0.0    0.0       0.0    0.0     0.0   0.0   \n",
      "0_9.txt   0.00000   0.0    0.0    0.0    0.0       0.0    0.0     0.0   0.0   \n",
      "10_2.txt  0.00000   0.0    0.0    0.0    0.0       0.0    0.0     0.0   0.0   \n",
      "10_9.txt  0.00000   0.0    0.0    0.0    0.0       0.0    0.0     0.0   0.0   \n",
      "11_3.txt  0.00000   0.0    0.0    0.0    0.0       0.0    0.0     0.0   0.0   \n",
      "...           ...   ...    ...    ...    ...       ...    ...     ...   ...   \n",
      "7_7.txt   0.00000   0.0    0.0    0.0    0.0       0.0    0.0     0.0   0.0   \n",
      "8_4.txt   0.00000   0.0    0.0    0.0    0.0       0.0    0.0     0.0   0.0   \n",
      "8_7.txt   0.00000   0.0    0.0    0.0    0.0       0.0    0.0     0.0   0.0   \n",
      "9_1.txt   0.00000   0.0    0.0    0.0    0.0       0.0    0.0     0.0   0.0   \n",
      "9_7.txt   0.01264   0.0    0.0    0.0    0.0       0.0    0.0     0.0   0.0   \n",
      "\n",
      "word      zsigmond  \n",
      "doc_id              \n",
      "0_3.txt   0.140625  \n",
      "0_9.txt   0.000000  \n",
      "10_2.txt  0.000000  \n",
      "10_9.txt  0.000000  \n",
      "11_3.txt  0.000000  \n",
      "...            ...  \n",
      "7_7.txt   0.000000  \n",
      "8_4.txt   0.000000  \n",
      "8_7.txt   0.000000  \n",
      "9_1.txt   0.000000  \n",
      "9_7.txt   0.000000  \n",
      "\n",
      "[64 rows x 2891 columns]\n"
     ]
    }
   ],
   "source": [
    "# Pivot the DataFrame to create the N x D matrix\n",
    "matrix = df.pivot(index='doc_id', columns='word', values='tfidf')\n",
    "matrix.fillna(0, inplace=True)  # Fill NaN values with 0\n",
    "\n",
    "# Print the matrix\n",
    "print(matrix)"
   ]
  },
  {
   "cell_type": "code",
   "execution_count": null,
   "id": "573ab88f",
   "metadata": {},
   "outputs": [],
   "source": []
  }
 ],
 "metadata": {
  "kernelspec": {
   "display_name": "Python 3 (ipykernel)",
   "language": "python",
   "name": "python3"
  },
  "language_info": {
   "codemirror_mode": {
    "name": "ipython",
    "version": 3
   },
   "file_extension": ".py",
   "mimetype": "text/x-python",
   "name": "python",
   "nbconvert_exporter": "python",
   "pygments_lexer": "ipython3",
   "version": "3.10.6"
  }
 },
 "nbformat": 4,
 "nbformat_minor": 5
}
